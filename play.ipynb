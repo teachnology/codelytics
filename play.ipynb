{
 "cells": [
  {
   "cell_type": "code",
   "execution_count": 1,
   "id": "307e7753",
   "metadata": {},
   "outputs": [],
   "source": [
    "import pathlib\n",
    "\n",
    "import codelytics as cdl\n",
    "\n",
    "project = pathlib.Path(\"./tests/data/project01\")\n",
    "\n",
    "dir = cdl.Dir(project)"
   ]
  },
  {
   "cell_type": "code",
   "execution_count": 2,
   "id": "2069b058",
   "metadata": {},
   "outputs": [
    {
     "name": "stdout",
     "output_type": "stream",
     "text": [
      "is_repo: False\n",
      "n_commits: 0\n",
      "n_files_total: 27\n",
      "n_files_py: 7\n",
      "n_files_ipynb: 2\n",
      "n_files_md: 1\n",
      "radon_loc: 314\n",
      "radon_lloc: 178\n",
      "radon_sloc: 168\n",
      "radon_comments: 65\n",
      "radon_multi: 19\n",
      "radon_blank: 89\n",
      "lloc: 163\n",
      "n_char: 7401\n",
      "n_functions: 30\n",
      "n_classes: 5\n",
      "n_imports: 10\n",
      "n_imported_modules: 5\n",
      "mccabe_total: 30\n",
      "mccabe_mean: 1.7333333333333334\n",
      "mccabe_median: 1.0\n",
      "cognitive_total: 39\n",
      "cognitive_mean: 0.9666666666666667\n",
      "cognitive_median: 0.0\n",
      "halstead_vocabulary_total: 71.0\n",
      "halstead_vocabulary_mean: 2.6666666666666665\n",
      "halstead_vocabulary_median: 3.0\n",
      "halstead_length_total: 132.0\n",
      "halstead_length_mean: 3.5\n",
      "halstead_length_median: 3.0\n",
      "halstead_volume_total: 811.7666197746181\n",
      "halstead_volume_mean: 8.86325207934076\n",
      "halstead_volume_median: 4.754887502163469\n",
      "halstead_difficulty_total: 6.387096774193548\n",
      "halstead_difficulty_mean: 0.6888888888888888\n",
      "halstead_difficulty_median: 0.5\n",
      "halstead_effort_total: 5184.831958560464\n",
      "halstead_effort_mean: 20.524162859657068\n",
      "halstead_effort_median: 2.3774437510817346\n",
      "comments_count: 65\n",
      "comments_words_total: 246\n",
      "comments_words_mean: 3.7846153846153845\n",
      "comments_words_median: 3.0\n",
      "comments_chars_total: 1389\n",
      "comments_chars_mean: 21.369230769230768\n",
      "comments_chars_median: 18.0\n",
      "comments_non_ascii_total: 2\n",
      "comments_non_ascii_mean: 0.03076923076923077\n",
      "comments_non_ascii_median: 0.0\n",
      "comments_sentences_total: 5\n",
      "comments_sentences_mean: 0.07692307692307693\n",
      "comments_sentences_median: 0.0\n",
      "comments_misspelled_total: 5\n",
      "comments_misspelled_mean: 0.07692307692307693\n",
      "comments_misspelled_median: 0.0\n",
      "comments_why_or_what_total: 2\n",
      "comments_why_or_what_mean: 0.03076923076923077\n",
      "comments_why_or_what_median: 0.0\n",
      "docstrings_count: 15\n",
      "docstrings_words_total: 150\n",
      "docstrings_words_mean: 10.0\n",
      "docstrings_words_median: 6.0\n",
      "docstrings_chars_total: 1032\n",
      "docstrings_chars_mean: 68.8\n",
      "docstrings_chars_median: 47.0\n",
      "docstrings_non_ascii_total: 1\n",
      "docstrings_non_ascii_mean: 0.06666666666666667\n",
      "docstrings_non_ascii_median: 0.0\n",
      "docstrings_sentences_total: 15\n",
      "docstrings_sentences_mean: 1.0\n",
      "docstrings_sentences_median: 1.0\n",
      "docstrings_misspelled_total: 4\n",
      "docstrings_misspelled_mean: 0.26666666666666666\n",
      "docstrings_misspelled_median: 0.0\n",
      "names_count: 58\n",
      "names_chars_total: 543\n",
      "names_chars_mean: 9.362068965517242\n",
      "names_chars_median: 7.0\n",
      "names_camel_case_ratio: 0.5689655172413793\n",
      "names_snake_case_ratio: 0.896551724137931\n",
      "names_pascal_case_ratio: 0.06896551724137931\n",
      "names_private_ratio: 0.017241379310344827\n",
      "names_endswith_number_ratio: 0.017241379310344827\n",
      "names_simple_ratio: 0.5689655172413793\n",
      "names_ascii_ratio: 1.0\n",
      "n_cells_total: 13\n",
      "n_cells_code: 6\n",
      "n_cells_markdown: 6\n",
      "markdown_words_total: 62\n",
      "markdown_chars_total: 376\n",
      "markdown_sentences_total: 4\n",
      "markdown_misspelled_total: 2\n"
     ]
    }
   ],
   "source": [
    "stats = dir.stats()\n",
    "for i in stats.index:\n",
    "    print(f\"{i}: {stats[i]}\")"
   ]
  },
  {
   "cell_type": "code",
   "execution_count": 5,
   "id": "a2eb8d90",
   "metadata": {},
   "outputs": [
    {
     "data": {
      "text/plain": [
       "is_repo                      False\n",
       "n_commits                        0\n",
       "n_files_total                   27\n",
       "n_files_py                       7\n",
       "n_files_ipynb                    2\n",
       "                             ...  \n",
       "n_cells_markdown                 6\n",
       "markdown_words_total            62\n",
       "markdown_chars_total           376\n",
       "markdown_sentences_total         4\n",
       "markdown_misspelled_total        2\n",
       "Name: project01, Length: 91, dtype: object"
      ]
     },
     "execution_count": 5,
     "metadata": {},
     "output_type": "execute_result"
    }
   ],
   "source": [
    "stats"
   ]
  },
  {
   "cell_type": "code",
   "execution_count": null,
   "id": "b37acf00",
   "metadata": {},
   "outputs": [],
   "source": []
  }
 ],
 "metadata": {
  "kernelspec": {
   "display_name": "codelytics",
   "language": "python",
   "name": "python3"
  },
  "language_info": {
   "codemirror_mode": {
    "name": "ipython",
    "version": 3
   },
   "file_extension": ".py",
   "mimetype": "text/x-python",
   "name": "python",
   "nbconvert_exporter": "python",
   "pygments_lexer": "ipython3",
   "version": "3.13.2"
  }
 },
 "nbformat": 4,
 "nbformat_minor": 5
}
